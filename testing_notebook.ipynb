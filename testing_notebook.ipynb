{
 "cells": [
  {
   "cell_type": "markdown",
   "metadata": {},
   "source": [
    "Preprocess the data and organise"
   ]
  },
  {
   "cell_type": "code",
   "execution_count": null,
   "metadata": {},
   "outputs": [],
   "source": [
    "from utils.data_process import generate_dataset\n",
    "from pathlib import Path\n",
    "\n",
    "# Move to the project for data process \n",
    "path_project= #put you own dataset path in string format\n",
    "%cd #Put your own project path\n",
    "generate_dataset(Path(path_project),\n",
    "                 [\"fields\",\"roads\"])"
   ]
  },
  {
   "cell_type": "markdown",
   "metadata": {},
   "source": [
    "AUgment data + training to save the model .pt + visualise train/val loss history"
   ]
  },
  {
   "cell_type": "code",
   "execution_count": null,
   "metadata": {},
   "outputs": [],
   "source": [
    "import torch\n",
    "print(torch.cuda.is_available()) \n",
    "\n",
    "#change parameter in the train.py\n",
    "%run train.py"
   ]
  },
  {
   "cell_type": "markdown",
   "metadata": {},
   "source": [
    "Load model and evaluate with test data"
   ]
  },
  {
   "cell_type": "code",
   "execution_count": null,
   "metadata": {},
   "outputs": [],
   "source": [
    "from utils.model_utils import load_checkpoint, check_accuracy\n",
    "from utils.CNN_model import SimpleCNN\n",
    "from utils.dataset import Field_or_Road\n",
    "from torch.utils.data import DataLoader\n",
    "import albumentations as A\n",
    "from albumentations.pytorch import ToTensorV2\n",
    "import torch\n",
    "\n",
    "\n",
    "# Hyperparameters (use the same as during training especially image hegh and width )\n",
    "\n",
    "DEVICE = \"cuda\" if torch.cuda.is_available() else \"cpu\"\n",
    "NUM_WORKERS = 4\n",
    "IMAGE_HEIGHT = 224\n",
    "IMAGE_WIDTH = 336\n",
    "PIN_MEMORY = True\n",
    "TEST_IMG_DIR = \"dataset_original/test_images\" #change to you orwn test data path \n",
    "MODEL_NAME = \"model_name_best.pt\" #change to you own model path\n",
    "\n",
    "test_transform = A.Compose(\n",
    "        [\n",
    "            A.Resize(height = IMAGE_HEIGHT, width = IMAGE_WIDTH),\n",
    "            A.Normalize(\n",
    "                mean=[0.485, 0.456, 0.406],     # standard normalisation parameters for ImagNet\n",
    "                std=[0.229, 0.224, 0.225], \n",
    "                max_pixel_value = 255.0,\n",
    "            ),\n",
    "            ToTensorV2(),\n",
    "        ],\n",
    "    )\n",
    "test_ds = Field_or_Road(image_dir = TEST_IMG_DIR,\n",
    "                        transform = test_transform)\n",
    "test_loader = DataLoader(\n",
    "    test_ds,\n",
    "    batch_size= 1,\n",
    "    num_workers= NUM_WORKERS,\n",
    "    pin_memory= PIN_MEMORY,\n",
    "    shuffle= False,\n",
    ")\n",
    "\n",
    "model = SimpleCNN(IMAGE_HEIGHT,IMAGE_WIDTH).to(device = DEVICE)\n",
    "load_checkpoint(torch.load(MODEL_NAME),model)\n",
    "check_accuracy(test_loader,model,plot=True,device= DEVICE)"
   ]
  }
 ],
 "metadata": {
  "kernelspec": {
   "display_name": "myvenv",
   "language": "python",
   "name": "python3"
  },
  "language_info": {
   "codemirror_mode": {
    "name": "ipython",
    "version": 3
   },
   "file_extension": ".py",
   "mimetype": "text/x-python",
   "name": "python",
   "nbconvert_exporter": "python",
   "pygments_lexer": "ipython3",
   "version": "3.10.13"
  }
 },
 "nbformat": 4,
 "nbformat_minor": 2
}
